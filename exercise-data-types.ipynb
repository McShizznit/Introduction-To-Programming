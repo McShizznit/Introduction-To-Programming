{
 "cells": [
  {
   "cell_type": "markdown",
   "id": "ab20cd33",
   "metadata": {
    "papermill": {
     "duration": 0.006002,
     "end_time": "2025-03-04T14:24:10.490408",
     "exception": false,
     "start_time": "2025-03-04T14:24:10.484406",
     "status": "completed"
    },
    "tags": []
   },
   "source": [
    "**This notebook is an exercise in the [Intro to Programming](https://www.kaggle.com/learn/intro-to-programming) course.  You can reference the tutorial at [this link](https://www.kaggle.com/alexisbcook/data-types).**\n",
    "\n",
    "---\n"
   ]
  },
  {
   "cell_type": "markdown",
   "id": "5b8a9705",
   "metadata": {
    "papermill": {
     "duration": 0.005082,
     "end_time": "2025-03-04T14:24:10.501029",
     "exception": false,
     "start_time": "2025-03-04T14:24:10.495947",
     "status": "completed"
    },
    "tags": []
   },
   "source": [
    "In the tutorial, you learned about four different data types: floats, integers, strings, and booleans.  In this exercise, you'll experiment with them.\n",
    "\n",
    "# Set up the notebook\n",
    "\n",
    "Run the next code cell without changes to set up the notebook."
   ]
  },
  {
   "cell_type": "code",
   "execution_count": 1,
   "id": "b6fd4fa0",
   "metadata": {
    "execution": {
     "iopub.execute_input": "2025-03-04T14:24:10.513759Z",
     "iopub.status.busy": "2025-03-04T14:24:10.513240Z",
     "iopub.status.idle": "2025-03-04T14:24:11.532986Z",
     "shell.execute_reply": "2025-03-04T14:24:11.531733Z"
    },
    "papermill": {
     "duration": 1.028224,
     "end_time": "2025-03-04T14:24:11.535000",
     "exception": false,
     "start_time": "2025-03-04T14:24:10.506776",
     "status": "completed"
    },
    "tags": []
   },
   "outputs": [
    {
     "name": "stdout",
     "output_type": "stream",
     "text": [
      "Setup complete.\n"
     ]
    }
   ],
   "source": [
    "# Set up the exercise\n",
    "from learntools.core import binder\n",
    "binder.bind(globals())\n",
    "from learntools.intro_to_programming.ex3 import *\n",
    "print('Setup complete.')"
   ]
  },
  {
   "cell_type": "markdown",
   "id": "f37a1851",
   "metadata": {
    "papermill": {
     "duration": 0.005083,
     "end_time": "2025-03-04T14:24:11.545990",
     "exception": false,
     "start_time": "2025-03-04T14:24:11.540907",
     "status": "completed"
    },
    "tags": []
   },
   "source": [
    "# Question 1\n",
    "\n",
    "You have seen how to convert a float to an integer with the `int` function.  Try this out yourself by running the code cell below."
   ]
  },
  {
   "cell_type": "code",
   "execution_count": 2,
   "id": "f7e9eb41",
   "metadata": {
    "execution": {
     "iopub.execute_input": "2025-03-04T14:24:11.557980Z",
     "iopub.status.busy": "2025-03-04T14:24:11.557454Z",
     "iopub.status.idle": "2025-03-04T14:24:11.563655Z",
     "shell.execute_reply": "2025-03-04T14:24:11.562693Z"
    },
    "papermill": {
     "duration": 0.013998,
     "end_time": "2025-03-04T14:24:11.565260",
     "exception": false,
     "start_time": "2025-03-04T14:24:11.551262",
     "status": "completed"
    },
    "tags": []
   },
   "outputs": [
    {
     "name": "stdout",
     "output_type": "stream",
     "text": [
      "1.0\n",
      "<class 'float'>\n",
      "1\n",
      "<class 'int'>\n"
     ]
    }
   ],
   "source": [
    "# Define a float\n",
    "y = 1.\n",
    "print(y)\n",
    "print(type(y))\n",
    "\n",
    "# Convert float to integer with the int function\n",
    "z = int(y)\n",
    "print(z)\n",
    "print(type(z))"
   ]
  },
  {
   "cell_type": "markdown",
   "id": "881bf25f",
   "metadata": {
    "papermill": {
     "duration": 0.005224,
     "end_time": "2025-03-04T14:24:11.575988",
     "exception": false,
     "start_time": "2025-03-04T14:24:11.570764",
     "status": "completed"
    },
    "tags": []
   },
   "source": [
    "In this case, the float you are using has no numbers after the decimal.  \n",
    "- But what happens when you try to convert a float with a fractional part to an integer?  \n",
    "- How does the outcome of the `int` function change for positive and negative numbers?\n",
    "\n",
    "Use the next code cell to investigate and answer these questions.  Feel free to add or remove any lines of code -- it is your workspace!"
   ]
  },
  {
   "cell_type": "code",
   "execution_count": 3,
   "id": "97b519c1",
   "metadata": {
    "execution": {
     "iopub.execute_input": "2025-03-04T14:24:11.588140Z",
     "iopub.status.busy": "2025-03-04T14:24:11.587783Z",
     "iopub.status.idle": "2025-03-04T14:24:11.594488Z",
     "shell.execute_reply": "2025-03-04T14:24:11.593120Z"
    },
    "papermill": {
     "duration": 0.015278,
     "end_time": "2025-03-04T14:24:11.596745",
     "exception": false,
     "start_time": "2025-03-04T14:24:11.581467",
     "status": "completed"
    },
    "tags": []
   },
   "outputs": [
    {
     "name": "stdout",
     "output_type": "stream",
     "text": [
      "1\n",
      "1\n",
      "-3\n",
      "-2\n"
     ]
    }
   ],
   "source": [
    "# Uncomment and run this code to get started!\n",
    "print(int(1.2321))\n",
    "print(int(1.747))\n",
    "print(int(-3.94535))\n",
    "print(int(-2.19774))"
   ]
  },
  {
   "cell_type": "markdown",
   "id": "c60928b7",
   "metadata": {
    "papermill": {
     "duration": 0.005396,
     "end_time": "2025-03-04T14:24:11.608180",
     "exception": false,
     "start_time": "2025-03-04T14:24:11.602784",
     "status": "completed"
    },
    "tags": []
   },
   "source": [
    "Once you have an answer, run the code cell below to see the solution.  Viewing the solution will give you credit for answering the problem."
   ]
  },
  {
   "cell_type": "code",
   "execution_count": 4,
   "id": "9a55acb2",
   "metadata": {
    "execution": {
     "iopub.execute_input": "2025-03-04T14:24:11.620934Z",
     "iopub.status.busy": "2025-03-04T14:24:11.620520Z",
     "iopub.status.idle": "2025-03-04T14:24:11.628546Z",
     "shell.execute_reply": "2025-03-04T14:24:11.627642Z"
    },
    "papermill": {
     "duration": 0.016655,
     "end_time": "2025-03-04T14:24:11.630308",
     "exception": false,
     "start_time": "2025-03-04T14:24:11.613653",
     "status": "completed"
    },
    "tags": []
   },
   "outputs": [
    {
     "data": {
      "application/javascript": [
       "parent.postMessage({\"jupyterEvent\": \"custom.exercise_interaction\", \"data\": {\"outcomeType\": 1, \"valueTowardsCompletion\": 0.2, \"interactionType\": 1, \"questionType\": 4, \"questionId\": \"1_FloatToInt\", \"learnToolsVersion\": \"0.3.4\", \"failureMessage\": \"\", \"exceptionClass\": \"\", \"trace\": \"\"}}, \"*\")"
      ],
      "text/plain": [
       "<IPython.core.display.Javascript object>"
      ]
     },
     "metadata": {},
     "output_type": "display_data"
    },
    {
     "data": {
      "text/markdown": [
       "<span style=\"color:#33cc33\">Correct:</span> \n",
       "\n",
       "Negative floats are always rounded UP to the closest integer (for instance, both -1.1 and -1.9 are rounded up to -1). Positive floats are always rounded DOWN to the closest integer (for instance, 2.1 and 2.9 are rounded down to 2)."
      ],
      "text/plain": [
       "Correct: \n",
       "\n",
       "Negative floats are always rounded UP to the closest integer (for instance, both -1.1 and -1.9 are rounded up to -1). Positive floats are always rounded DOWN to the closest integer (for instance, 2.1 and 2.9 are rounded down to 2)."
      ]
     },
     "metadata": {},
     "output_type": "display_data"
    }
   ],
   "source": [
    "# Check your answer (Run this code cell to receive credit!)\n",
    "q1.check()"
   ]
  },
  {
   "cell_type": "markdown",
   "id": "28897551",
   "metadata": {
    "papermill": {
     "duration": 0.00548,
     "end_time": "2025-03-04T14:24:11.642401",
     "exception": false,
     "start_time": "2025-03-04T14:24:11.636921",
     "status": "completed"
    },
    "tags": []
   },
   "source": [
    "# Question 2\n",
    "\n",
    "In the tutorial, you learned about booleans (which can take a value of `True` or `False`), in addition to integers, floats, and strings.  For this question, your goal is to determine what happens when you multiply a boolean by any of these data types.  Specifically, \n",
    "- What happens when you multiply an integer or float by `True`?  What happens when you multiply them by `False`?  How does the answer change if the numbers are positive or negative?\n",
    "- What happens when you multiply a string by `True`?  By `False`?\n",
    "\n",
    "Use the next code cell for your investigation. "
   ]
  },
  {
   "cell_type": "code",
   "execution_count": 5,
   "id": "5dd2a769",
   "metadata": {
    "execution": {
     "iopub.execute_input": "2025-03-04T14:24:11.655678Z",
     "iopub.status.busy": "2025-03-04T14:24:11.655252Z",
     "iopub.status.idle": "2025-03-04T14:24:11.661670Z",
     "shell.execute_reply": "2025-03-04T14:24:11.660439Z"
    },
    "papermill": {
     "duration": 0.014963,
     "end_time": "2025-03-04T14:24:11.663543",
     "exception": false,
     "start_time": "2025-03-04T14:24:11.648580",
     "status": "completed"
    },
    "tags": []
   },
   "outputs": [
    {
     "name": "stdout",
     "output_type": "stream",
     "text": [
      "3\n",
      "-3.1\n",
      "<class 'str'>\n",
      "0\n"
     ]
    }
   ],
   "source": [
    "# Uncomment and run this code to get started!\n",
    "print(3 * True)\n",
    "print(-3.1 * True)\n",
    "print(type(\"abc\" * False))\n",
    "print(len(\"abc\" * False))"
   ]
  },
  {
   "cell_type": "markdown",
   "id": "3284ec1e",
   "metadata": {
    "papermill": {
     "duration": 0.005529,
     "end_time": "2025-03-04T14:24:11.675199",
     "exception": false,
     "start_time": "2025-03-04T14:24:11.669670",
     "status": "completed"
    },
    "tags": []
   },
   "source": [
    "Once you have an answer, run the code cell below to see the solution.  Viewing the solution will give you credit for answering the problem."
   ]
  },
  {
   "cell_type": "code",
   "execution_count": 6,
   "id": "73804fd0",
   "metadata": {
    "execution": {
     "iopub.execute_input": "2025-03-04T14:24:11.687825Z",
     "iopub.status.busy": "2025-03-04T14:24:11.687442Z",
     "iopub.status.idle": "2025-03-04T14:24:11.694499Z",
     "shell.execute_reply": "2025-03-04T14:24:11.693619Z"
    },
    "papermill": {
     "duration": 0.015038,
     "end_time": "2025-03-04T14:24:11.696006",
     "exception": false,
     "start_time": "2025-03-04T14:24:11.680968",
     "status": "completed"
    },
    "tags": []
   },
   "outputs": [
    {
     "data": {
      "application/javascript": [
       "parent.postMessage({\"jupyterEvent\": \"custom.exercise_interaction\", \"data\": {\"outcomeType\": 1, \"valueTowardsCompletion\": 0.2, \"interactionType\": 1, \"questionType\": 4, \"questionId\": \"2_MultiplyBooleans\", \"learnToolsVersion\": \"0.3.4\", \"failureMessage\": \"\", \"exceptionClass\": \"\", \"trace\": \"\"}}, \"*\")"
      ],
      "text/plain": [
       "<IPython.core.display.Javascript object>"
      ]
     },
     "metadata": {},
     "output_type": "display_data"
    },
    {
     "data": {
      "text/markdown": [
       "<span style=\"color:#33cc33\">Correct:</span> \n",
       "\n",
       "When you multiple an integer or float by a boolean with value `True`, it just returns that same integer or float (and is equivalent to multiplying by 1).  If you multiply an integer or float by a boolean with value `False`, it always returns 0.  This is true for both positive and negative numbers.  If you multiply a string by a boolean with value `True`, it just returns that same string.  And if you multiply a string by a boolean with value `False`, it returns an empty string (or a string with length zero)."
      ],
      "text/plain": [
       "Correct: \n",
       "\n",
       "When you multiple an integer or float by a boolean with value `True`, it just returns that same integer or float (and is equivalent to multiplying by 1).  If you multiply an integer or float by a boolean with value `False`, it always returns 0.  This is true for both positive and negative numbers.  If you multiply a string by a boolean with value `True`, it just returns that same string.  And if you multiply a string by a boolean with value `False`, it returns an empty string (or a string with length zero)."
      ]
     },
     "metadata": {},
     "output_type": "display_data"
    }
   ],
   "source": [
    "# Check your answer (Run this code cell to receive credit!)\n",
    "q2.check()"
   ]
  },
  {
   "cell_type": "markdown",
   "id": "1937d8ae",
   "metadata": {
    "papermill": {
     "duration": 0.005624,
     "end_time": "2025-03-04T14:24:11.707905",
     "exception": false,
     "start_time": "2025-03-04T14:24:11.702281",
     "status": "completed"
    },
    "tags": []
   },
   "source": [
    "# Question 3\n",
    "\n",
    "In this question, you will build off your work from the previous exercise to write a function that estimates the value of a house.\n",
    "\n",
    "Use the next code cell to create a function `get_expected_cost` that takes as input three variables:\n",
    "- `beds` - number of bedrooms (data type float)\n",
    "- `baths` - number of bathrooms (data type float)\n",
    "- `has_basement` - whether or not the house has a basement (data type boolean)\n",
    "\n",
    "It should return the expected cost of a house with those characteristics. Assume that:\n",
    "- the expected cost for a house with 0 bedrooms and 0 bathrooms, and no basement is 80000, \n",
    "- each bedroom adds 30000 to the expected cost,\n",
    "- each bathroom adds 10000 to the expected cost, and\n",
    "- a basement adds 40000 to the expected cost.\n",
    "\n",
    "For instance,\n",
    "- a house with 1 bedroom, 1 bathroom, and no basement has an expected cost of 80000 + 30000 + 10000 = 120000.  This value will be calculated with `get_expected_cost(1, 1, False)`.\n",
    "- a house with 2 bedrooms, 1 bathroom, and a basement has an expected cost of 80000 + 2*30000 + 10000 + 40000 = 190000.  This value will be calculated with `get_expected_cost(2, 1, True)`.\n",
    "\n",
    "Remember you can always get a hint by uncommenting `q3.hint()` in the code cell following the next!"
   ]
  },
  {
   "cell_type": "code",
   "execution_count": 7,
   "id": "508e6288",
   "metadata": {
    "execution": {
     "iopub.execute_input": "2025-03-04T14:24:11.721004Z",
     "iopub.status.busy": "2025-03-04T14:24:11.720670Z",
     "iopub.status.idle": "2025-03-04T14:24:11.728413Z",
     "shell.execute_reply": "2025-03-04T14:24:11.727207Z"
    },
    "papermill": {
     "duration": 0.016672,
     "end_time": "2025-03-04T14:24:11.730459",
     "exception": false,
     "start_time": "2025-03-04T14:24:11.713787",
     "status": "completed"
    },
    "tags": []
   },
   "outputs": [
    {
     "data": {
      "application/javascript": [
       "parent.postMessage({\"jupyterEvent\": \"custom.exercise_interaction\", \"data\": {\"outcomeType\": 1, \"valueTowardsCompletion\": 0.2, \"interactionType\": 1, \"questionType\": 2, \"questionId\": \"3_EstimateHouseValueBool\", \"learnToolsVersion\": \"0.3.4\", \"failureMessage\": \"\", \"exceptionClass\": \"\", \"trace\": \"\"}}, \"*\")"
      ],
      "text/plain": [
       "<IPython.core.display.Javascript object>"
      ]
     },
     "metadata": {},
     "output_type": "display_data"
    },
    {
     "data": {
      "text/markdown": [
       "<span style=\"color:#33cc33\">Correct</span>"
      ],
      "text/plain": [
       "Correct"
      ]
     },
     "metadata": {},
     "output_type": "display_data"
    }
   ],
   "source": [
    "# TODO: Complete the function\n",
    "def get_expected_cost(beds, baths, has_basement):\n",
    "    value = 80000 + 30000 * beds + 10000 * baths + 40000 * has_basement\n",
    "    return value\n",
    "\n",
    "# Check your answer \n",
    "q3.check()"
   ]
  },
  {
   "cell_type": "code",
   "execution_count": 8,
   "id": "9d2d8846",
   "metadata": {
    "execution": {
     "iopub.execute_input": "2025-03-04T14:24:11.745076Z",
     "iopub.status.busy": "2025-03-04T14:24:11.744730Z",
     "iopub.status.idle": "2025-03-04T14:24:11.752652Z",
     "shell.execute_reply": "2025-03-04T14:24:11.751452Z"
    },
    "papermill": {
     "duration": 0.016843,
     "end_time": "2025-03-04T14:24:11.754240",
     "exception": false,
     "start_time": "2025-03-04T14:24:11.737397",
     "status": "completed"
    },
    "tags": []
   },
   "outputs": [
    {
     "data": {
      "application/javascript": [
       "parent.postMessage({\"jupyterEvent\": \"custom.exercise_interaction\", \"data\": {\"interactionType\": 2, \"questionType\": 2, \"questionId\": \"3_EstimateHouseValueBool\", \"learnToolsVersion\": \"0.3.4\", \"valueTowardsCompletion\": 0.0, \"failureMessage\": \"\", \"exceptionClass\": \"\", \"trace\": \"\", \"outcomeType\": 4}}, \"*\")"
      ],
      "text/plain": [
       "<IPython.core.display.Javascript object>"
      ]
     },
     "metadata": {},
     "output_type": "display_data"
    },
    {
     "data": {
      "text/markdown": [
       "<span style=\"color:#3366cc\">Hint:</span> The variable `has_basement` is either `True` or `False`.  What happens when you multiply it by 40000 (the value of a basement)?  Refer to the previous question if you are unsure."
      ],
      "text/plain": [
       "Hint: The variable `has_basement` is either `True` or `False`.  What happens when you multiply it by 40000 (the value of a basement)?  Refer to the previous question if you are unsure."
      ]
     },
     "metadata": {},
     "output_type": "display_data"
    }
   ],
   "source": [
    "# Uncomment to see a hint\n",
    "q3.hint()\n",
    "\n",
    "# Uncomment to view the solution\n",
    "#q3.solution()"
   ]
  },
  {
   "cell_type": "markdown",
   "id": "bc5ba079",
   "metadata": {
    "papermill": {
     "duration": 0.006758,
     "end_time": "2025-03-04T14:24:11.767754",
     "exception": false,
     "start_time": "2025-03-04T14:24:11.760996",
     "status": "completed"
    },
    "tags": []
   },
   "source": [
    "# Question 4\n",
    "\n",
    "We'll continue our study of boolean arithmetic.  For this question, your task is to provide a description of what happpens when you add booleans. \n",
    "\n",
    "Use the next code cell for your investigation.  Feel free to add or remove any lines of code - use it as your workspace!"
   ]
  },
  {
   "cell_type": "code",
   "execution_count": 9,
   "id": "11d05059",
   "metadata": {
    "execution": {
     "iopub.execute_input": "2025-03-04T14:24:11.782426Z",
     "iopub.status.busy": "2025-03-04T14:24:11.781964Z",
     "iopub.status.idle": "2025-03-04T14:24:11.788739Z",
     "shell.execute_reply": "2025-03-04T14:24:11.787712Z"
    },
    "papermill": {
     "duration": 0.016183,
     "end_time": "2025-03-04T14:24:11.790471",
     "exception": false,
     "start_time": "2025-03-04T14:24:11.774288",
     "status": "completed"
    },
    "tags": []
   },
   "outputs": [
    {
     "name": "stdout",
     "output_type": "stream",
     "text": [
      "0\n",
      "1\n",
      "1\n",
      "2\n",
      "3\n"
     ]
    }
   ],
   "source": [
    "print(False + False)\n",
    "print(True + False)\n",
    "print(False + True)\n",
    "print(True + True)\n",
    "print(False + True + True + True)"
   ]
  },
  {
   "cell_type": "markdown",
   "id": "6390848c",
   "metadata": {
    "papermill": {
     "duration": 0.0062,
     "end_time": "2025-03-04T14:24:11.803593",
     "exception": false,
     "start_time": "2025-03-04T14:24:11.797393",
     "status": "completed"
    },
    "tags": []
   },
   "source": [
    "Once you have an answer, run the code cell below to see the solution.  Viewing the solution will give you credit for answering the problem."
   ]
  },
  {
   "cell_type": "code",
   "execution_count": 10,
   "id": "55c1cfc3",
   "metadata": {
    "execution": {
     "iopub.execute_input": "2025-03-04T14:24:11.817966Z",
     "iopub.status.busy": "2025-03-04T14:24:11.817542Z",
     "iopub.status.idle": "2025-03-04T14:24:11.825038Z",
     "shell.execute_reply": "2025-03-04T14:24:11.823948Z"
    },
    "papermill": {
     "duration": 0.016871,
     "end_time": "2025-03-04T14:24:11.826907",
     "exception": false,
     "start_time": "2025-03-04T14:24:11.810036",
     "status": "completed"
    },
    "tags": []
   },
   "outputs": [
    {
     "data": {
      "application/javascript": [
       "parent.postMessage({\"jupyterEvent\": \"custom.exercise_interaction\", \"data\": {\"outcomeType\": 1, \"valueTowardsCompletion\": 0.2, \"interactionType\": 1, \"questionType\": 4, \"questionId\": \"4_AddingBooleans\", \"learnToolsVersion\": \"0.3.4\", \"failureMessage\": \"\", \"exceptionClass\": \"\", \"trace\": \"\"}}, \"*\")"
      ],
      "text/plain": [
       "<IPython.core.display.Javascript object>"
      ]
     },
     "metadata": {},
     "output_type": "display_data"
    },
    {
     "data": {
      "text/markdown": [
       "<span style=\"color:#33cc33\">Correct:</span> \n",
       "\n",
       "When you add booleans, adding `False` is equivalent to adding 0, and adding `True` is equivalent to adding 1."
      ],
      "text/plain": [
       "Correct: \n",
       "\n",
       "When you add booleans, adding `False` is equivalent to adding 0, and adding `True` is equivalent to adding 1."
      ]
     },
     "metadata": {},
     "output_type": "display_data"
    }
   ],
   "source": [
    "# Check your answer (Run this code cell to receive credit!)\n",
    "q4.check()"
   ]
  },
  {
   "cell_type": "markdown",
   "id": "db891b90",
   "metadata": {
    "papermill": {
     "duration": 0.00652,
     "end_time": "2025-03-04T14:24:11.840756",
     "exception": false,
     "start_time": "2025-03-04T14:24:11.834236",
     "status": "completed"
    },
    "tags": []
   },
   "source": [
    "# 🌶️ Question 5\n",
    "\n",
    "You own an online shop where you sell rings with custom engravings.  You offer both gold plated and solid gold rings.\n",
    "- Gold plated rings have a base cost of \\\\$50, and you charge \\\\$7 per engraved unit.  \n",
    "- Solid gold rings have a base cost of \\\\$100, and you charge \\\\$10 per engraved unit.\n",
    "- Spaces and punctuation are counted as engraved units.\n",
    "\n",
    "Write a function `cost_of_project()` that takes two arguments:\n",
    "- `engraving` - a Python string with the text of the engraving\n",
    "- `solid_gold` - a Boolean that indicates whether the ring is solid gold\n",
    "\n",
    "It should return the cost of the project.  This question should be fairly challenging, and you may need a hint."
   ]
  },
  {
   "cell_type": "code",
   "execution_count": 11,
   "id": "d7c3fea8",
   "metadata": {
    "execution": {
     "iopub.execute_input": "2025-03-04T14:24:11.855329Z",
     "iopub.status.busy": "2025-03-04T14:24:11.854982Z",
     "iopub.status.idle": "2025-03-04T14:24:11.863657Z",
     "shell.execute_reply": "2025-03-04T14:24:11.862553Z"
    },
    "papermill": {
     "duration": 0.018179,
     "end_time": "2025-03-04T14:24:11.865665",
     "exception": false,
     "start_time": "2025-03-04T14:24:11.847486",
     "status": "completed"
    },
    "tags": []
   },
   "outputs": [
    {
     "data": {
      "application/javascript": [
       "parent.postMessage({\"jupyterEvent\": \"custom.exercise_interaction\", \"data\": {\"outcomeType\": 1, \"valueTowardsCompletion\": 0.2, \"interactionType\": 1, \"questionType\": 2, \"questionId\": \"5_CustomEngravings\", \"learnToolsVersion\": \"0.3.4\", \"failureMessage\": \"\", \"exceptionClass\": \"\", \"trace\": \"\"}}, \"*\")"
      ],
      "text/plain": [
       "<IPython.core.display.Javascript object>"
      ]
     },
     "metadata": {},
     "output_type": "display_data"
    },
    {
     "data": {
      "text/markdown": [
       "<span style=\"color:#33cc33\">Correct</span>"
      ],
      "text/plain": [
       "Correct"
      ]
     },
     "metadata": {},
     "output_type": "display_data"
    }
   ],
   "source": [
    "def cost_of_project(engraving, solid_gold):\n",
    "    cost = solid_gold* (100+10* len(engraving)) + (not solid_gold)* (50+7* len(engraving))\n",
    "    \n",
    "    return cost\n",
    "\n",
    "# Check your answer\n",
    "q5.check()"
   ]
  },
  {
   "cell_type": "code",
   "execution_count": 12,
   "id": "56151903",
   "metadata": {
    "execution": {
     "iopub.execute_input": "2025-03-04T14:24:11.882000Z",
     "iopub.status.busy": "2025-03-04T14:24:11.881582Z",
     "iopub.status.idle": "2025-03-04T14:24:11.891849Z",
     "shell.execute_reply": "2025-03-04T14:24:11.890740Z"
    },
    "papermill": {
     "duration": 0.020158,
     "end_time": "2025-03-04T14:24:11.893450",
     "exception": false,
     "start_time": "2025-03-04T14:24:11.873292",
     "status": "completed"
    },
    "tags": []
   },
   "outputs": [
    {
     "data": {
      "application/javascript": [
       "parent.postMessage({\"jupyterEvent\": \"custom.exercise_interaction\", \"data\": {\"interactionType\": 2, \"questionType\": 2, \"questionId\": \"5_CustomEngravings\", \"learnToolsVersion\": \"0.3.4\", \"valueTowardsCompletion\": 0.0, \"failureMessage\": \"\", \"exceptionClass\": \"\", \"trace\": \"\", \"outcomeType\": 4}}, \"*\")"
      ],
      "text/plain": [
       "<IPython.core.display.Javascript object>"
      ]
     },
     "metadata": {},
     "output_type": "display_data"
    },
    {
     "data": {
      "text/markdown": [
       "<span style=\"color:#3366cc\">Hint:</span> There are two options - either the project uses solid gold or does not.  With this in mind, you can structure your solution like this: `cost = solid_gold * ____ + (not solid_gold) * ____`.  You need to figure out how to fill in the blanks. Also, remember that:\n",
       "- If `solid_gold = True`, then `(not solid_gold) = False`, and if `solid_gold = False`, then `(not solid_gold) = True`.\n",
       "- Multiplying an integer by `True` is equivalent to multiplying it by 1, and multiplying an integer by `False` is equivalent to multiplying it by 0."
      ],
      "text/plain": [
       "Hint: There are two options - either the project uses solid gold or does not.  With this in mind, you can structure your solution like this: `cost = solid_gold * ____ + (not solid_gold) * ____`.  You need to figure out how to fill in the blanks. Also, remember that:\n",
       "- If `solid_gold = True`, then `(not solid_gold) = False`, and if `solid_gold = False`, then `(not solid_gold) = True`.\n",
       "- Multiplying an integer by `True` is equivalent to multiplying it by 1, and multiplying an integer by `False` is equivalent to multiplying it by 0."
      ]
     },
     "metadata": {},
     "output_type": "display_data"
    },
    {
     "data": {
      "application/javascript": [
       "parent.postMessage({\"jupyterEvent\": \"custom.exercise_interaction\", \"data\": {\"interactionType\": 3, \"questionType\": 2, \"questionId\": \"5_CustomEngravings\", \"learnToolsVersion\": \"0.3.4\", \"valueTowardsCompletion\": 0.0, \"failureMessage\": \"\", \"exceptionClass\": \"\", \"trace\": \"\", \"outcomeType\": 4}}, \"*\")"
      ],
      "text/plain": [
       "<IPython.core.display.Javascript object>"
      ]
     },
     "metadata": {},
     "output_type": "display_data"
    },
    {
     "data": {
      "text/markdown": [
       "<span style=\"color:#33cc99\">Solution:</span> \n",
       "```python\n",
       "def cost_of_project(engraving, solid_gold):\n",
       "    cost = solid_gold * (100 + 10 * len(engraving)) + (not solid_gold) * (50 + 7 * len(engraving))\n",
       "    return cost\n",
       "\n",
       "```"
      ],
      "text/plain": [
       "Solution: \n",
       "```python\n",
       "def cost_of_project(engraving, solid_gold):\n",
       "    cost = solid_gold * (100 + 10 * len(engraving)) + (not solid_gold) * (50 + 7 * len(engraving))\n",
       "    return cost\n",
       "\n",
       "```"
      ]
     },
     "metadata": {},
     "output_type": "display_data"
    }
   ],
   "source": [
    "# Uncomment to see a hint\n",
    "q5.hint()\n",
    "\n",
    "# Uncomment to view the solution\n",
    "q5.solution()"
   ]
  },
  {
   "cell_type": "markdown",
   "id": "338d7218",
   "metadata": {
    "papermill": {
     "duration": 0.006968,
     "end_time": "2025-03-04T14:24:11.908087",
     "exception": false,
     "start_time": "2025-03-04T14:24:11.901119",
     "status": "completed"
    },
    "tags": []
   },
   "source": [
    "Run the next code cell to calculate the cost of engraving `Charlie+Denver` on a solid gold ring."
   ]
  },
  {
   "cell_type": "code",
   "execution_count": 13,
   "id": "71536699",
   "metadata": {
    "execution": {
     "iopub.execute_input": "2025-03-04T14:24:11.924280Z",
     "iopub.status.busy": "2025-03-04T14:24:11.923924Z",
     "iopub.status.idle": "2025-03-04T14:24:11.929328Z",
     "shell.execute_reply": "2025-03-04T14:24:11.927954Z"
    },
    "papermill": {
     "duration": 0.015653,
     "end_time": "2025-03-04T14:24:11.931163",
     "exception": false,
     "start_time": "2025-03-04T14:24:11.915510",
     "status": "completed"
    },
    "tags": []
   },
   "outputs": [
    {
     "name": "stdout",
     "output_type": "stream",
     "text": [
      "240\n"
     ]
    }
   ],
   "source": [
    "project_one = cost_of_project(\"Charlie+Denver\", True)\n",
    "print(project_one)"
   ]
  },
  {
   "cell_type": "markdown",
   "id": "b2c1e9b0",
   "metadata": {
    "papermill": {
     "duration": 0.007296,
     "end_time": "2025-03-04T14:24:11.946297",
     "exception": false,
     "start_time": "2025-03-04T14:24:11.939001",
     "status": "completed"
    },
    "tags": []
   },
   "source": [
    "Use the next code cell to calculate the cost of engraving `08/10/2000` on a gold plated ring."
   ]
  },
  {
   "cell_type": "code",
   "execution_count": 14,
   "id": "9139151a",
   "metadata": {
    "execution": {
     "iopub.execute_input": "2025-03-04T14:24:11.962822Z",
     "iopub.status.busy": "2025-03-04T14:24:11.962433Z",
     "iopub.status.idle": "2025-03-04T14:24:11.967031Z",
     "shell.execute_reply": "2025-03-04T14:24:11.965914Z"
    },
    "papermill": {
     "duration": 0.014751,
     "end_time": "2025-03-04T14:24:11.968698",
     "exception": false,
     "start_time": "2025-03-04T14:24:11.953947",
     "status": "completed"
    },
    "tags": []
   },
   "outputs": [
    {
     "name": "stdout",
     "output_type": "stream",
     "text": [
      "120\n"
     ]
    }
   ],
   "source": [
    "project_two = cost_of_project(\"08/10/2000\", False)\n",
    "print(project_two)"
   ]
  },
  {
   "cell_type": "markdown",
   "id": "dc061e2b",
   "metadata": {
    "papermill": {
     "duration": 0.007285,
     "end_time": "2025-03-04T14:24:11.983785",
     "exception": false,
     "start_time": "2025-03-04T14:24:11.976500",
     "status": "completed"
    },
    "tags": []
   },
   "source": [
    "# Keep going\n",
    "\n",
    "Continue to the next lesson to **[learn about conditions and conditional statements](https://www.kaggle.com/alexisbcook/conditions-and-conditional-statements)**."
   ]
  },
  {
   "cell_type": "markdown",
   "id": "fb7cce08",
   "metadata": {
    "papermill": {
     "duration": 0.007544,
     "end_time": "2025-03-04T14:24:11.999043",
     "exception": false,
     "start_time": "2025-03-04T14:24:11.991499",
     "status": "completed"
    },
    "tags": []
   },
   "source": [
    "---\n",
    "\n",
    "\n",
    "\n",
    "\n",
    "*Have questions or comments? Visit the [course discussion forum](https://www.kaggle.com/learn/intro-to-programming/discussion) to chat with other learners.*"
   ]
  }
 ],
 "metadata": {
  "kaggle": {
   "accelerator": "none",
   "dataSources": [],
   "isGpuEnabled": false,
   "isInternetEnabled": false,
   "language": "python",
   "sourceType": "notebook"
  },
  "kernelspec": {
   "display_name": "Python 3",
   "language": "python",
   "name": "python3"
  },
  "language_info": {
   "codemirror_mode": {
    "name": "ipython",
    "version": 3
   },
   "file_extension": ".py",
   "mimetype": "text/x-python",
   "name": "python",
   "nbconvert_exporter": "python",
   "pygments_lexer": "ipython3",
   "version": "3.10.12"
  },
  "papermill": {
   "default_parameters": {},
   "duration": 5.025217,
   "end_time": "2025-03-04T14:24:12.627090",
   "environment_variables": {},
   "exception": null,
   "input_path": "__notebook__.ipynb",
   "output_path": "__notebook__.ipynb",
   "parameters": {},
   "start_time": "2025-03-04T14:24:07.601873",
   "version": "2.3.3"
  }
 },
 "nbformat": 4,
 "nbformat_minor": 5
}
